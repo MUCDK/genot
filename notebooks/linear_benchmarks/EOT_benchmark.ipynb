{
 "cells": [
  {
   "cell_type": "code",
   "execution_count": 1,
   "id": "8aafdc16-58f7-4d0d-a60f-3b2945d88c59",
   "metadata": {},
   "outputs": [
    {
     "name": "stderr",
     "output_type": "stream",
     "text": [
      "/home/icb/leon.stadelmann/miniconda3/envs/eot_benchmark/lib/python3.9/site-packages/tqdm/auto.py:21: TqdmWarning: IProgress not found. Please update jupyter and ipywidgets. See https://ipywidgets.readthedocs.io/en/stable/user_install.html\n",
      "  from .autonotebook import tqdm as notebook_tqdm\n",
      "2024-12-11 12:08:15.263282: E external/local_xla/xla/stream_executor/cuda/cuda_fft.cc:477] Unable to register cuFFT factory: Attempting to register factory for plugin cuFFT when one has already been registered\n",
      "WARNING: All log messages before absl::InitializeLog() is called are written to STDERR\n",
      "E0000 00:00:1733915296.121353 1854478 cuda_dnn.cc:8310] Unable to register cuDNN factory: Attempting to register factory for plugin cuDNN when one has already been registered\n",
      "E0000 00:00:1733915296.510641 1854478 cuda_blas.cc:1418] Unable to register cuBLAS factory: Attempting to register factory for plugin cuBLAS when one has already been registered\n"
     ]
    }
   ],
   "source": [
    "import os\n",
    "import sys\n",
    "\n",
    "import jax\n",
    "import jax.numpy as jnp\n",
    "import numpy as np\n",
    "import optax\n",
    "from genot.models.model import GENOT\n",
    "from genot.nets.nets import MLP_vector_field\n",
    "import ott\n",
    "import torch\n",
    "import seaborn as sns\n",
    "import genot\n",
    "import jax\n",
    "import ott\n",
    "import diffrax\n",
    "import jax.numpy as jnp\n",
    "import matplotlib.pyplot as plt\n",
    "import numpy as np\n",
    "import seaborn as sns\n",
    "from genot.nets.nets import MLP_vector_field, MLP_marginal\n",
    "import sklearn.preprocessing as pp\n",
    "#import scanpy as sc\n",
    "from ott.solvers.linear import sinkhorn, acceleration\n",
    "from genot.data.data import MixtureNormalSampler\n",
    "from genot.plotting.plots import plot_1D_unbalanced\n",
    "from eot_benchmark.gaussian_mixture_benchmark import (\n",
    "    get_guassian_mixture_benchmark_ground_truth_sampler,\n",
    "    get_guassian_mixture_benchmark_sampler,\n",
    "    get_test_input_samples,\n",
    ")\n",
    "from eot_benchmark.metrics import calculate_cond_bw, compute_BW_UVP_by_gt_samples"
   ]
  },
  {
   "cell_type": "code",
   "execution_count": 2,
   "id": "2348f15d-ca9d-4f0f-b69a-6d2298815e5f",
   "metadata": {},
   "outputs": [],
   "source": [
    "import eot_benchmark.gaussian_mixture_benchmark"
   ]
  },
  {
   "cell_type": "code",
   "execution_count": 3,
   "id": "1b10242e-a274-4380-bcfd-68f3eadea2bd",
   "metadata": {},
   "outputs": [
    {
     "data": {
      "text/plain": [
       "'NVIDIA H100 80GB HBM3'"
      ]
     },
     "execution_count": 3,
     "metadata": {},
     "output_type": "execute_result"
    }
   ],
   "source": [
    "torch.cuda.get_device_name()"
   ]
  },
  {
   "cell_type": "code",
   "execution_count": 4,
   "id": "66dfb7a1-37be-417c-acfa-937f8e8524d6",
   "metadata": {},
   "outputs": [
    {
     "data": {
      "text/plain": [
       "'2.5.1+cu124'"
      ]
     },
     "execution_count": 4,
     "metadata": {},
     "output_type": "execute_result"
    }
   ],
   "source": [
    "torch.__version__"
   ]
  },
  {
   "cell_type": "code",
   "execution_count": 5,
   "id": "1977c62d-a20c-4bb5-a847-7cf3dd6494fe",
   "metadata": {},
   "outputs": [],
   "source": [
    "class Loader:\n",
    "\n",
    "    def __init__(self, sampler, batch_size):\n",
    "        self.sampler = sampler\n",
    "        self.batch_size = batch_size\n",
    "\n",
    "    def __next__(self):\n",
    "        return jnp.asarray(self.sampler.sample(self.batch_size))#.cpu())"
   ]
  },
  {
   "cell_type": "code",
   "execution_count": 6,
   "id": "bda30102-c32f-41f7-92e8-4178058cd0df",
   "metadata": {},
   "outputs": [],
   "source": [
    "out_dir = \"./\"\n",
    "\n",
    "arguments = sys.argv\n",
    "DIM = 64  # choose according to benchmark\n",
    "EPS = 1.0  # choose according to benchmark\n",
    "if EPS > 0.1:\n",
    "    EPS = int(EPS)\n",
    "BATCH_SIZE = 2048\n",
    "K_NOISE_PER_X = 1\n",
    "ITERATIONS = 100000#100_000\n",
    "LR = 1e-5\n",
    "SEED = 0\n",
    "\n",
    "\n",
    "iters = ITERATIONS  # this is just to log a few results\n",
    "\n",
    "NUM_SAMPLES_cBVP = 1_000\n",
    "NUM_SAMPLES_BVP = 100_000\n",
    "GPU_DEVICE = 0"
   ]
  },
  {
   "cell_type": "code",
   "execution_count": 7,
   "id": "9d936ef0-5fa7-43b2-a590-a270cde133eb",
   "metadata": {},
   "outputs": [
    {
     "name": "stdout",
     "output_type": "stream",
     "text": [
      "Access denied with the following error:\n"
     ]
    },
    {
     "name": "stderr",
     "output_type": "stream",
     "text": [
      "\n",
      " \tCannot retrieve the public link of the file. You may need to change\n",
      "\tthe permission to 'Anyone with the link', or have had many accesses. \n",
      "\n",
      "You may still be able to access the file from the browser:\n",
      "\n",
      "\t https://drive.google.com/uc?id=1HNXbrkozARbz4r8fdFbjvPw8R74n1oiY \n",
      "\n",
      "/home/icb/leon.stadelmann/miniconda3/envs/eot_benchmark/lib/python3.9/site-packages/eot_benchmark-1.0-py3.9.egg/eot_benchmark/gaussian_mixture_benchmark.py:196: FutureWarning: You are using `torch.load` with `weights_only=False` (the current default value), which uses the default pickle module implicitly. It is possible to construct malicious pickle data which will execute arbitrary code during unpickling (See https://github.com/pytorch/pytorch/blob/main/SECURITY.md#untrusted-models for more details). In a future release, the default value for `weights_only` will be flipped to `True`. This limits the functions that could be executed during unpickling. Arbitrary objects will no longer be allowed to be loaded via this mode unless they are explicitly allowlisted by the user via `torch.serialization.add_safe_globals`. We recommend you start setting `weights_only=True` for any use case where you don't have full control of the loaded file. Please open an issue on GitHub for any issues related to this experimental feature.\n",
      "/home/icb/leon.stadelmann/miniconda3/envs/eot_benchmark/lib/python3.9/site-packages/eot_benchmark-1.0-py3.9.egg/eot_benchmark/gaussian_mixture_benchmark.py:197: FutureWarning: You are using `torch.load` with `weights_only=False` (the current default value), which uses the default pickle module implicitly. It is possible to construct malicious pickle data which will execute arbitrary code during unpickling (See https://github.com/pytorch/pytorch/blob/main/SECURITY.md#untrusted-models for more details). In a future release, the default value for `weights_only` will be flipped to `True`. This limits the functions that could be executed during unpickling. Arbitrary objects will no longer be allowed to be loaded via this mode unless they are explicitly allowlisted by the user via `torch.serialization.add_safe_globals`. We recommend you start setting `weights_only=True` for any use case where you don't have full control of the loaded file. Please open an issue on GitHub for any issues related to this experimental feature.\n",
      "/home/icb/leon.stadelmann/miniconda3/envs/eot_benchmark/lib/python3.9/site-packages/eot_benchmark-1.0-py3.9.egg/eot_benchmark/gaussian_mixture_benchmark.py:198: FutureWarning: You are using `torch.load` with `weights_only=False` (the current default value), which uses the default pickle module implicitly. It is possible to construct malicious pickle data which will execute arbitrary code during unpickling (See https://github.com/pytorch/pytorch/blob/main/SECURITY.md#untrusted-models for more details). In a future release, the default value for `weights_only` will be flipped to `True`. This limits the functions that could be executed during unpickling. Arbitrary objects will no longer be allowed to be loaded via this mode unless they are explicitly allowlisted by the user via `torch.serialization.add_safe_globals`. We recommend you start setting `weights_only=True` for any use case where you don't have full control of the loaded file. Please open an issue on GitHub for any issues related to this experimental feature.\n"
     ]
    },
    {
     "name": "stdout",
     "output_type": "stream",
     "text": [
      "Access denied with the following error:\n"
     ]
    },
    {
     "name": "stderr",
     "output_type": "stream",
     "text": [
      "\n",
      " \tCannot retrieve the public link of the file. You may need to change\n",
      "\tthe permission to 'Anyone with the link', or have had many accesses. \n",
      "\n",
      "You may still be able to access the file from the browser:\n",
      "\n",
      "\t https://drive.google.com/uc?id=1HNXbrkozARbz4r8fdFbjvPw8R74n1oiY \n",
      "\n",
      "/home/icb/leon.stadelmann/miniconda3/envs/eot_benchmark/lib/python3.9/site-packages/eot_benchmark-1.0-py3.9.egg/eot_benchmark/gaussian_mixture_benchmark.py:196: FutureWarning: You are using `torch.load` with `weights_only=False` (the current default value), which uses the default pickle module implicitly. It is possible to construct malicious pickle data which will execute arbitrary code during unpickling (See https://github.com/pytorch/pytorch/blob/main/SECURITY.md#untrusted-models for more details). In a future release, the default value for `weights_only` will be flipped to `True`. This limits the functions that could be executed during unpickling. Arbitrary objects will no longer be allowed to be loaded via this mode unless they are explicitly allowlisted by the user via `torch.serialization.add_safe_globals`. We recommend you start setting `weights_only=True` for any use case where you don't have full control of the loaded file. Please open an issue on GitHub for any issues related to this experimental feature.\n",
      "/home/icb/leon.stadelmann/miniconda3/envs/eot_benchmark/lib/python3.9/site-packages/eot_benchmark-1.0-py3.9.egg/eot_benchmark/gaussian_mixture_benchmark.py:197: FutureWarning: You are using `torch.load` with `weights_only=False` (the current default value), which uses the default pickle module implicitly. It is possible to construct malicious pickle data which will execute arbitrary code during unpickling (See https://github.com/pytorch/pytorch/blob/main/SECURITY.md#untrusted-models for more details). In a future release, the default value for `weights_only` will be flipped to `True`. This limits the functions that could be executed during unpickling. Arbitrary objects will no longer be allowed to be loaded via this mode unless they are explicitly allowlisted by the user via `torch.serialization.add_safe_globals`. We recommend you start setting `weights_only=True` for any use case where you don't have full control of the loaded file. Please open an issue on GitHub for any issues related to this experimental feature.\n",
      "/home/icb/leon.stadelmann/miniconda3/envs/eot_benchmark/lib/python3.9/site-packages/eot_benchmark-1.0-py3.9.egg/eot_benchmark/gaussian_mixture_benchmark.py:198: FutureWarning: You are using `torch.load` with `weights_only=False` (the current default value), which uses the default pickle module implicitly. It is possible to construct malicious pickle data which will execute arbitrary code during unpickling (See https://github.com/pytorch/pytorch/blob/main/SECURITY.md#untrusted-models for more details). In a future release, the default value for `weights_only` will be flipped to `True`. This limits the functions that could be executed during unpickling. Arbitrary objects will no longer be allowed to be loaded via this mode unless they are explicitly allowlisted by the user via `torch.serialization.add_safe_globals`. We recommend you start setting `weights_only=True` for any use case where you don't have full control of the loaded file. Please open an issue on GitHub for any issues related to this experimental feature.\n",
      "/home/icb/leon.stadelmann/miniconda3/envs/eot_benchmark/lib/python3.9/site-packages/eot_benchmark-1.0-py3.9.egg/eot_benchmark/gaussian_mixture_benchmark.py:205: FutureWarning: You are using `torch.load` with `weights_only=False` (the current default value), which uses the default pickle module implicitly. It is possible to construct malicious pickle data which will execute arbitrary code during unpickling (See https://github.com/pytorch/pytorch/blob/main/SECURITY.md#untrusted-models for more details). In a future release, the default value for `weights_only` will be flipped to `True`. This limits the functions that could be executed during unpickling. Arbitrary objects will no longer be allowed to be loaded via this mode unless they are explicitly allowlisted by the user via `torch.serialization.add_safe_globals`. We recommend you start setting `weights_only=True` for any use case where you don't have full control of the loaded file. Please open an issue on GitHub for any issues related to this experimental feature.\n",
      "/home/icb/leon.stadelmann/miniconda3/envs/eot_benchmark/lib/python3.9/site-packages/eot_benchmark-1.0-py3.9.egg/eot_benchmark/gaussian_mixture_benchmark.py:206: FutureWarning: You are using `torch.load` with `weights_only=False` (the current default value), which uses the default pickle module implicitly. It is possible to construct malicious pickle data which will execute arbitrary code during unpickling (See https://github.com/pytorch/pytorch/blob/main/SECURITY.md#untrusted-models for more details). In a future release, the default value for `weights_only` will be flipped to `True`. This limits the functions that could be executed during unpickling. Arbitrary objects will no longer be allowed to be loaded via this mode unless they are explicitly allowlisted by the user via `torch.serialization.add_safe_globals`. We recommend you start setting `weights_only=True` for any use case where you don't have full control of the loaded file. Please open an issue on GitHub for any issues related to this experimental feature.\n",
      "/home/icb/leon.stadelmann/miniconda3/envs/eot_benchmark/lib/python3.9/site-packages/eot_benchmark-1.0-py3.9.egg/eot_benchmark/gaussian_mixture_benchmark.py:207: FutureWarning: You are using `torch.load` with `weights_only=False` (the current default value), which uses the default pickle module implicitly. It is possible to construct malicious pickle data which will execute arbitrary code during unpickling (See https://github.com/pytorch/pytorch/blob/main/SECURITY.md#untrusted-models for more details). In a future release, the default value for `weights_only` will be flipped to `True`. This limits the functions that could be executed during unpickling. Arbitrary objects will no longer be allowed to be loaded via this mode unless they are explicitly allowlisted by the user via `torch.serialization.add_safe_globals`. We recommend you start setting `weights_only=True` for any use case where you don't have full control of the loaded file. Please open an issue on GitHub for any issues related to this experimental feature.\n"
     ]
    },
    {
     "name": "stdout",
     "output_type": "stream",
     "text": [
      "Access denied with the following error:\n"
     ]
    },
    {
     "name": "stderr",
     "output_type": "stream",
     "text": [
      "\n",
      " \tCannot retrieve the public link of the file. You may need to change\n",
      "\tthe permission to 'Anyone with the link', or have had many accesses. \n",
      "\n",
      "You may still be able to access the file from the browser:\n",
      "\n",
      "\t https://drive.google.com/uc?id=1HNXbrkozARbz4r8fdFbjvPw8R74n1oiY \n",
      "\n",
      "/home/icb/leon.stadelmann/miniconda3/envs/eot_benchmark/lib/python3.9/site-packages/eot_benchmark-1.0-py3.9.egg/eot_benchmark/gaussian_mixture_benchmark.py:224: FutureWarning: You are using `torch.load` with `weights_only=False` (the current default value), which uses the default pickle module implicitly. It is possible to construct malicious pickle data which will execute arbitrary code during unpickling (See https://github.com/pytorch/pytorch/blob/main/SECURITY.md#untrusted-models for more details). In a future release, the default value for `weights_only` will be flipped to `True`. This limits the functions that could be executed during unpickling. Arbitrary objects will no longer be allowed to be loaded via this mode unless they are explicitly allowlisted by the user via `torch.serialization.add_safe_globals`. We recommend you start setting `weights_only=True` for any use case where you don't have full control of the loaded file. Please open an issue on GitHub for any issues related to this experimental feature.\n",
      "/home/icb/leon.stadelmann/miniconda3/envs/eot_benchmark/lib/python3.9/site-packages/eot_benchmark-1.0-py3.9.egg/eot_benchmark/gaussian_mixture_benchmark.py:225: FutureWarning: You are using `torch.load` with `weights_only=False` (the current default value), which uses the default pickle module implicitly. It is possible to construct malicious pickle data which will execute arbitrary code during unpickling (See https://github.com/pytorch/pytorch/blob/main/SECURITY.md#untrusted-models for more details). In a future release, the default value for `weights_only` will be flipped to `True`. This limits the functions that could be executed during unpickling. Arbitrary objects will no longer be allowed to be loaded via this mode unless they are explicitly allowlisted by the user via `torch.serialization.add_safe_globals`. We recommend you start setting `weights_only=True` for any use case where you don't have full control of the loaded file. Please open an issue on GitHub for any issues related to this experimental feature.\n",
      "/home/icb/leon.stadelmann/miniconda3/envs/eot_benchmark/lib/python3.9/site-packages/eot_benchmark-1.0-py3.9.egg/eot_benchmark/gaussian_mixture_benchmark.py:226: FutureWarning: You are using `torch.load` with `weights_only=False` (the current default value), which uses the default pickle module implicitly. It is possible to construct malicious pickle data which will execute arbitrary code during unpickling (See https://github.com/pytorch/pytorch/blob/main/SECURITY.md#untrusted-models for more details). In a future release, the default value for `weights_only` will be flipped to `True`. This limits the functions that could be executed during unpickling. Arbitrary objects will no longer be allowed to be loaded via this mode unless they are explicitly allowlisted by the user via `torch.serialization.add_safe_globals`. We recommend you start setting `weights_only=True` for any use case where you don't have full control of the loaded file. Please open an issue on GitHub for any issues related to this experimental feature.\n",
      "/home/icb/leon.stadelmann/miniconda3/envs/eot_benchmark/lib/python3.9/site-packages/eot_benchmark-1.0-py3.9.egg/eot_benchmark/gaussian_mixture_benchmark.py:230: FutureWarning: You are using `torch.load` with `weights_only=False` (the current default value), which uses the default pickle module implicitly. It is possible to construct malicious pickle data which will execute arbitrary code during unpickling (See https://github.com/pytorch/pytorch/blob/main/SECURITY.md#untrusted-models for more details). In a future release, the default value for `weights_only` will be flipped to `True`. This limits the functions that could be executed during unpickling. Arbitrary objects will no longer be allowed to be loaded via this mode unless they are explicitly allowlisted by the user via `torch.serialization.add_safe_globals`. We recommend you start setting `weights_only=True` for any use case where you don't have full control of the loaded file. Please open an issue on GitHub for any issues related to this experimental feature.\n",
      "/home/icb/leon.stadelmann/miniconda3/envs/eot_benchmark/lib/python3.9/site-packages/eot_benchmark-1.0-py3.9.egg/eot_benchmark/gaussian_mixture_benchmark.py:231: FutureWarning: You are using `torch.load` with `weights_only=False` (the current default value), which uses the default pickle module implicitly. It is possible to construct malicious pickle data which will execute arbitrary code during unpickling (See https://github.com/pytorch/pytorch/blob/main/SECURITY.md#untrusted-models for more details). In a future release, the default value for `weights_only` will be flipped to `True`. This limits the functions that could be executed during unpickling. Arbitrary objects will no longer be allowed to be loaded via this mode unless they are explicitly allowlisted by the user via `torch.serialization.add_safe_globals`. We recommend you start setting `weights_only=True` for any use case where you don't have full control of the loaded file. Please open an issue on GitHub for any issues related to this experimental feature.\n",
      "/home/icb/leon.stadelmann/miniconda3/envs/eot_benchmark/lib/python3.9/site-packages/eot_benchmark-1.0-py3.9.egg/eot_benchmark/gaussian_mixture_benchmark.py:232: FutureWarning: You are using `torch.load` with `weights_only=False` (the current default value), which uses the default pickle module implicitly. It is possible to construct malicious pickle data which will execute arbitrary code during unpickling (See https://github.com/pytorch/pytorch/blob/main/SECURITY.md#untrusted-models for more details). In a future release, the default value for `weights_only` will be flipped to `True`. This limits the functions that could be executed during unpickling. Arbitrary objects will no longer be allowed to be loaded via this mode unless they are explicitly allowlisted by the user via `torch.serialization.add_safe_globals`. We recommend you start setting `weights_only=True` for any use case where you don't have full control of the loaded file. Please open an issue on GitHub for any issues related to this experimental feature.\n"
     ]
    }
   ],
   "source": [
    "input_sampler = get_guassian_mixture_benchmark_sampler(\n",
    "    input_or_target=\"input\",\n",
    "    dim=DIM,\n",
    "    eps=EPS,\n",
    "    batch_size=BATCH_SIZE,\n",
    "    device=f\"cuda:{GPU_DEVICE}\",\n",
    "    download=True,\n",
    ")\n",
    "\n",
    "target_sampler = get_guassian_mixture_benchmark_sampler(\n",
    "    input_or_target=\"target\",\n",
    "    dim=DIM,\n",
    "    eps=EPS,\n",
    "    batch_size=BATCH_SIZE,\n",
    "    device=f\"cuda:{GPU_DEVICE}\",\n",
    "    download=True,\n",
    ")\n",
    "\n",
    "ground_truth_plan_sampler = get_guassian_mixture_benchmark_ground_truth_sampler(\n",
    "    dim=DIM, \n",
    "    eps=EPS, \n",
    "    batch_size=BATCH_SIZE, \n",
    "    device=f\"cuda:{GPU_DEVICE}\", \n",
    "    download=True\n",
    ")"
   ]
  },
  {
   "cell_type": "code",
   "execution_count": 8,
   "id": "ab5d7678-9987-40ad-b19b-6e0cf77013a5",
   "metadata": {},
   "outputs": [],
   "source": [
    "neural_net = MLP_vector_field(DIM, 1024, 1024, 1024, n_frequencies=1024)\n",
    "ot_solver = ott.solvers.linear.sinkhorn.Sinkhorn()\n",
    "solver_latent_to_data = (\n",
    "    ott.solvers.linear.sinkhorn.Sinkhorn() if K_NOISE_PER_X > 1 else None\n",
    ")\n",
    "optimizer = optax.adamw(learning_rate=LR, weight_decay=1e-10)"
   ]
  },
  {
   "cell_type": "code",
   "execution_count": 9,
   "id": "99ea8532-dd49-4391-8091-aa2aa0fa9e52",
   "metadata": {},
   "outputs": [],
   "source": [
    "genot = GENOT(\n",
    "    neural_net,\n",
    "    optimizer=optimizer,\n",
    "    ot_solver=ot_solver,\n",
    "    epsilon=EPS,\n",
    "    input_dim=DIM,\n",
    "    output_dim=DIM,\n",
    "    iterations=iters,\n",
    "    k_noise_per_x=K_NOISE_PER_X,\n",
    "    solver_latent_to_data=solver_latent_to_data,\n",
    "    latent_to_data_scale_cost=\"mean\",\n",
    "    seed=SEED,\n",
    ")"
   ]
  },
  {
   "cell_type": "code",
   "execution_count": 10,
   "id": "f1929eee-b96c-4068-965e-cd4dc8ab5c7f",
   "metadata": {},
   "outputs": [
    {
     "name": "stderr",
     "output_type": "stream",
     "text": [
      "/home/icb/leon.stadelmann/miniconda3/envs/eot_benchmark/lib/python3.9/site-packages/eot_benchmark-1.0-py3.9.egg/eot_benchmark/gaussian_mixture_benchmark.py:241: FutureWarning: You are using `torch.load` with `weights_only=False` (the current default value), which uses the default pickle module implicitly. It is possible to construct malicious pickle data which will execute arbitrary code during unpickling (See https://github.com/pytorch/pytorch/blob/main/SECURITY.md#untrusted-models for more details). In a future release, the default value for `weights_only` will be flipped to `True`. This limits the functions that could be executed during unpickling. Arbitrary objects will no longer be allowed to be loaded via this mode unless they are explicitly allowlisted by the user via `torch.serialization.add_safe_globals`. We recommend you start setting `weights_only=True` for any use case where you don't have full control of the loaded file. Please open an issue on GitHub for any issues related to this experimental feature.\n"
     ]
    }
   ],
   "source": [
    "s_sampler = Loader(input_sampler, BATCH_SIZE)\n",
    "t_sampler = Loader(target_sampler, BATCH_SIZE)\n",
    "\n",
    "\n",
    "\n",
    "bws = []\n",
    "cond_bws = []\n",
    "\n",
    "test_samples = get_test_input_samples(dim=DIM, device=f\"cuda:{GPU_DEVICE}\").cpu()\n",
    "test_samples_repeated = np.repeat(test_samples[:, None, :], NUM_SAMPLES_cBVP, axis=1)\n",
    "\n",
    "cpu_device = jax.devices('cpu')[0]"
   ]
  },
  {
   "cell_type": "code",
   "execution_count": 11,
   "id": "595d63e8-6ae2-4046-a083-4d0a9e441290",
   "metadata": {},
   "outputs": [],
   "source": [
    "source_test = input_sampler.sample(100_000)\n",
    "target_test = target_sampler.sample(100_000)"
   ]
  },
  {
   "cell_type": "code",
   "execution_count": 12,
   "id": "23438d95-bcbd-4130-829d-f49738b2a6bb",
   "metadata": {},
   "outputs": [
    {
     "name": "stderr",
     "output_type": "stream",
     "text": [
      "\n",
      "/home/icb/leon.stadelmann/miniconda3/envs/eot_benchmark/lib/python3.9/site-packages/eot_benchmark-1.0-py3.9.egg/eot_benchmark/gaussian_mixture_benchmark.py:224: FutureWarning: You are using `torch.load` with `weights_only=False` (the current default value), which uses the default pickle module implicitly. It is possible to construct malicious pickle data which will execute arbitrary code during unpickling (See https://github.com/pytorch/pytorch/blob/main/SECURITY.md#untrusted-models for more details). In a future release, the default value for `weights_only` will be flipped to `True`. This limits the functions that could be executed during unpickling. Arbitrary objects will no longer be allowed to be loaded via this mode unless they are explicitly allowlisted by the user via `torch.serialization.add_safe_globals`. We recommend you start setting `weights_only=True` for any use case where you don't have full control of the loaded file. Please open an issue on GitHub for any issues related to this experimental feature.\n",
      "/home/icb/leon.stadelmann/miniconda3/envs/eot_benchmark/lib/python3.9/site-packages/eot_benchmark-1.0-py3.9.egg/eot_benchmark/gaussian_mixture_benchmark.py:225: FutureWarning: You are using `torch.load` with `weights_only=False` (the current default value), which uses the default pickle module implicitly. It is possible to construct malicious pickle data which will execute arbitrary code during unpickling (See https://github.com/pytorch/pytorch/blob/main/SECURITY.md#untrusted-models for more details). In a future release, the default value for `weights_only` will be flipped to `True`. This limits the functions that could be executed during unpickling. Arbitrary objects will no longer be allowed to be loaded via this mode unless they are explicitly allowlisted by the user via `torch.serialization.add_safe_globals`. We recommend you start setting `weights_only=True` for any use case where you don't have full control of the loaded file. Please open an issue on GitHub for any issues related to this experimental feature.\n",
      "/home/icb/leon.stadelmann/miniconda3/envs/eot_benchmark/lib/python3.9/site-packages/eot_benchmark-1.0-py3.9.egg/eot_benchmark/gaussian_mixture_benchmark.py:226: FutureWarning: You are using `torch.load` with `weights_only=False` (the current default value), which uses the default pickle module implicitly. It is possible to construct malicious pickle data which will execute arbitrary code during unpickling (See https://github.com/pytorch/pytorch/blob/main/SECURITY.md#untrusted-models for more details). In a future release, the default value for `weights_only` will be flipped to `True`. This limits the functions that could be executed during unpickling. Arbitrary objects will no longer be allowed to be loaded via this mode unless they are explicitly allowlisted by the user via `torch.serialization.add_safe_globals`. We recommend you start setting `weights_only=True` for any use case where you don't have full control of the loaded file. Please open an issue on GitHub for any issues related to this experimental feature.\n",
      "/home/icb/leon.stadelmann/miniconda3/envs/eot_benchmark/lib/python3.9/site-packages/eot_benchmark-1.0-py3.9.egg/eot_benchmark/gaussian_mixture_benchmark.py:230: FutureWarning: You are using `torch.load` with `weights_only=False` (the current default value), which uses the default pickle module implicitly. It is possible to construct malicious pickle data which will execute arbitrary code during unpickling (See https://github.com/pytorch/pytorch/blob/main/SECURITY.md#untrusted-models for more details). In a future release, the default value for `weights_only` will be flipped to `True`. This limits the functions that could be executed during unpickling. Arbitrary objects will no longer be allowed to be loaded via this mode unless they are explicitly allowlisted by the user via `torch.serialization.add_safe_globals`. We recommend you start setting `weights_only=True` for any use case where you don't have full control of the loaded file. Please open an issue on GitHub for any issues related to this experimental feature.\n",
      "/home/icb/leon.stadelmann/miniconda3/envs/eot_benchmark/lib/python3.9/site-packages/eot_benchmark-1.0-py3.9.egg/eot_benchmark/gaussian_mixture_benchmark.py:231: FutureWarning: You are using `torch.load` with `weights_only=False` (the current default value), which uses the default pickle module implicitly. It is possible to construct malicious pickle data which will execute arbitrary code during unpickling (See https://github.com/pytorch/pytorch/blob/main/SECURITY.md#untrusted-models for more details). In a future release, the default value for `weights_only` will be flipped to `True`. This limits the functions that could be executed during unpickling. Arbitrary objects will no longer be allowed to be loaded via this mode unless they are explicitly allowlisted by the user via `torch.serialization.add_safe_globals`. We recommend you start setting `weights_only=True` for any use case where you don't have full control of the loaded file. Please open an issue on GitHub for any issues related to this experimental feature.\n",
      "/home/icb/leon.stadelmann/miniconda3/envs/eot_benchmark/lib/python3.9/site-packages/eot_benchmark-1.0-py3.9.egg/eot_benchmark/gaussian_mixture_benchmark.py:232: FutureWarning: You are using `torch.load` with `weights_only=False` (the current default value), which uses the default pickle module implicitly. It is possible to construct malicious pickle data which will execute arbitrary code during unpickling (See https://github.com/pytorch/pytorch/blob/main/SECURITY.md#untrusted-models for more details). In a future release, the default value for `weights_only` will be flipped to `True`. This limits the functions that could be executed during unpickling. Arbitrary objects will no longer be allowed to be loaded via this mode unless they are explicitly allowlisted by the user via `torch.serialization.add_safe_globals`. We recommend you start setting `weights_only=True` for any use case where you don't have full control of the loaded file. Please open an issue on GitHub for any issues related to this experimental feature.\n"
     ]
    }
   ],
   "source": [
    "for i in range(1):\n",
    "    genot(s_sampler, t_sampler, BATCH_SIZE, BATCH_SIZE)\n",
    "    predicted = jax.vmap(lambda *args, **kwargs: genot.transport(*args, **kwargs)[0])(\n",
    "        jnp.asarray(test_samples_repeated), seed=jnp.arange(NUM_SAMPLES_cBVP)\n",
    "    )\n",
    "    predicted_squeezed = jnp.squeeze(predicted)\n",
    "    cond_bw = calculate_cond_bw(\n",
    "        test_samples, torch.tensor(np.asarray(predicted_squeezed)), eps=EPS, dim=DIM\n",
    "    )\n",
    "\n",
    "    source_samples = np.asarray(input_sampler.sample(NUM_SAMPLES_BVP).cpu())\n",
    "    predicted = genot.transport(jnp.asarray(source_samples))\n",
    "    predictions = torch.tensor(np.asarray(predicted[0][0, ...]))\n",
    "    target_samples = target_sampler.sample(NUM_SAMPLES_BVP)\n",
    "    bw = compute_BW_UVP_by_gt_samples(\n",
    "        predictions.cpu().numpy(), target_samples.cpu().numpy()\n",
    "    )\n",
    "\n",
    "    bws.append(bw)\n",
    "    cond_bws.append(cond_bw)"
   ]
  },
  {
   "cell_type": "code",
   "execution_count": 13,
   "id": "fe5da8c3-908e-4c78-be2c-c9c06ca0de0f",
   "metadata": {},
   "outputs": [
    {
     "name": "stdout",
     "output_type": "stream",
     "text": [
      "[0.08126619453644386]\n"
     ]
    }
   ],
   "source": [
    "print(bws)"
   ]
  },
  {
   "cell_type": "code",
   "execution_count": 14,
   "id": "5f0db7e6-6215-459b-a74c-f697f01e1ae2",
   "metadata": {},
   "outputs": [
    {
     "name": "stdout",
     "output_type": "stream",
     "text": [
      "[9.060897295874108]\n"
     ]
    }
   ],
   "source": [
    "print(cond_bws)"
   ]
  },
  {
   "cell_type": "code",
   "execution_count": null,
   "id": "ecce99d3-2a9d-4e2c-85c3-cf718454e723",
   "metadata": {},
   "outputs": [],
   "source": []
  }
 ],
 "metadata": {
  "kernelspec": {
   "display_name": "Python 3 (ipykernel)",
   "language": "python",
   "name": "python3"
  },
  "language_info": {
   "codemirror_mode": {
    "name": "ipython",
    "version": 3
   },
   "file_extension": ".py",
   "mimetype": "text/x-python",
   "name": "python",
   "nbconvert_exporter": "python",
   "pygments_lexer": "ipython3",
   "version": "3.10.15"
  }
 },
 "nbformat": 4,
 "nbformat_minor": 5
}
